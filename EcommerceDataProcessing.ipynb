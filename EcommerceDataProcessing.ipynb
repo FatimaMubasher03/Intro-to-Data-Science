{
 "cells": [
  {
   "cell_type": "code",
   "execution_count": null,
   "metadata": {
    "vscode": {
     "languageId": "plaintext"
    }
   },
   "outputs": [],
   "source": [
    "# Task 1 - Part C: Total Sales Calculation\n",
    "\n",
    "from functools import reduce\n",
    "\n",
    "# Function to calculate total sales\n",
    "def calculate_total_sales(orders: List[Dict[str, float]]) -> float:\n",
    "    total_sales = reduce(lambda acc, order: acc + order['total'], orders, 0)\n",
    "    return total_sales\n",
    "\n",
    "# Calculate total sales\n",
    "total_sales = calculate_total_sales(discounted_orders)\n",
    "print(f\"Total sales: ${total_sales:.2f}\")\n"
   ]
  },
  {
   "cell_type": "code",
   "execution_count": null,
   "metadata": {
    "vscode": {
     "languageId": "plaintext"
    }
   },
   "outputs": [],
   "source": [
    "# Task 1 - Part B: Discount Application\n",
    "\n",
    "# Function to apply discount on orders greater than $300\n",
    "def apply_discount(orders: List[Dict[str, float]]) -> List[Dict[str, float]]:\n",
    "    discounted_orders = list(map(lambda order: {**order, 'total': order['total'] * 0.9} if order['total'] > 300 else order, orders))\n",
    "    return discounted_orders\n",
    "\n",
    "# Apply discount\n",
    "discounted_orders = apply_discount(valid_orders)\n",
    "print(discounted_orders)\n"
   ]
  },
  {
   "cell_type": "code",
   "execution_count": null,
   "metadata": {
    "vscode": {
     "languageId": "plaintext"
    }
   },
   "outputs": [],
   "source": [
    "# Task 1 - Part A: Data Validation\n",
    "\n",
    "from typing import List, Dict\n",
    "\n",
    "# List of orders\n",
    "orders = [\n",
    "    {\"customer\": \"Alice\", \"total\": 250.5},\n",
    "    {\"customer\": \"Bob\", \"total\": \"invalid_data\"},\n",
    "    {\"customer\": \"Charlie\", \"total\": 450},\n",
    "    {\"customer\": \"Daisy\", \"total\": 100.0},\n",
    "    {\"customer\": \"Eve\", \"total\": -30},  # Invalid total\n",
    "]\n",
    "\n",
    "# Function to validate orders\n",
    "def validate_orders(orders: List[Dict[str, str]]) -> List[Dict[str, float]]:\n",
    "    def is_valid(order):\n",
    "        try:\n",
    "            total = float(order['total'])  # Ensure total is numeric\n",
    "            if total < 0:  # Check if the total is negative\n",
    "                return False\n",
    "            return True\n",
    "        except (ValueError, TypeError):\n",
    "            return False\n",
    "    \n",
    "    # Filter valid orders\n",
    "    valid_orders = list(filter(lambda order: is_valid(order), orders))\n",
    "    return valid_orders\n",
    "\n",
    "# Run validation\n",
    "valid_orders = validate_orders(orders)\n",
    "print(valid_orders)\n"
   ]
  }
 ],
 "metadata": {
  "language_info": {
   "name": "python"
  }
 },
 "nbformat": 4,
 "nbformat_minor": 2
}
