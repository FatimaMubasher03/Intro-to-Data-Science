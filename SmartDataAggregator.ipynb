{
 "cells": [
  {
   "cell_type": "code",
   "execution_count": null,
   "metadata": {
    "vscode": {
     "languageId": "plaintext"
    }
   },
   "outputs": [],
   "source": [
    "def count_unique_users(transactions):\n",
    "    unique_users = {transaction[1] for transaction in transactions}  # Using a set to ensure uniqueness\n",
    "    return len(unique_users)"
   ]
  },
  {
   "cell_type": "code",
   "execution_count": null,
   "metadata": {
    "vscode": {
     "languageId": "plaintext"
    }
   },
   "outputs": [],
   "source": [
    "def sort_and_check_duplicates(user_data):\n",
    "    sorted_users = sorted(user_data, key=lambda x: x[2], reverse=True)\n",
    "    top_10_oldest = sorted_users[:10]\n",
    "\n",
    "    names = [user[1] for user in user_data]\n",
    "    duplicates = set(name for name in names if names.count(name) > 1)\n",
    "\n",
    "    return top_10_oldest, duplicates"
   ]
  },
  {
   "cell_type": "code",
   "execution_count": null,
   "metadata": {
    "vscode": {
     "languageId": "plaintext"
    }
   },
   "outputs": [],
   "source": [
    "def filter_users(user_data):\n",
    "    filtered_users = [user[1] for user in user_data if user[2] > 30 and user[3] in ['USA', 'Canada']]\n",
    "    return filtered_users"
   ]
  }
 ],
 "metadata": {
  "language_info": {
   "name": "python"
  }
 },
 "nbformat": 4,
 "nbformat_minor": 2
}
