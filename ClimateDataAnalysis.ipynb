{
 "cells": [
  {
   "cell_type": "code",
   "execution_count": 31,
   "metadata": {},
   "outputs": [],
   "source": [
    "\n",
    "import numpy as np\n",
    "import pandas as pd\n"
   ]
  },
  {
   "cell_type": "code",
   "execution_count": 32,
   "metadata": {},
   "outputs": [],
   "source": [
    "temperature_data = np.random.uniform(-10, 40, (500, 365))\n",
    "humidity_data = np.random.uniform(0, 100, (500, 365))"
   ]
  },
  {
   "cell_type": "code",
   "execution_count": 33,
   "metadata": {},
   "outputs": [
    {
     "name": "stdout",
     "output_type": "stream",
     "text": [
      "Missing entries - Temperature: 9125, Humidity: 9125\n"
     ]
    }
   ],
   "source": [
    "num_missing = int(0.05 * temperature_data.size)\n",
    "temp_missing_indices = np.random.choice(temperature_data.size, num_missing, replace=False)\n",
    "humidity_missing_indices = np.random.choice(humidity_data.size, num_missing, replace=False)\n",
    "\n",
    "temperature_data.flat[temp_missing_indices] = np.nan\n",
    "humidity_data.flat[humidity_missing_indices] = np.nan\n",
    "\n",
    "temp_missing_count = np.isnan(temperature_data).sum()\n",
    "humidity_missing_count = np.isnan(humidity_data).sum()\n",
    "print(f\"Missing entries - Temperature: {temp_missing_count}, Humidity: {humidity_missing_count}\")"
   ]
  },
  {
   "cell_type": "code",
   "execution_count": 34,
   "metadata": {},
   "outputs": [],
   "source": [
    "temperature_data_fahrenheit = (temperature_data * 9/5) + 32\n",
    "\n",
    "feels_like_index = 0.72 * (temperature_data_fahrenheit + humidity_data) + 40.6\n",
    "feels_like_index = np.where(feels_like_index > 80, 80, feels_like_index)"
   ]
  },
  {
   "cell_type": "code",
   "execution_count": 35,
   "metadata": {},
   "outputs": [
    {
     "name": "stdout",
     "output_type": "stream",
     "text": [
      "Average January temperature across all locations: 14.92 °C\n"
     ]
    }
   ],
   "source": [
    "january_temperatures = temperature_data[:, :31]\n",
    "january_avg_temp = np.nanmean(january_temperatures)\n",
    "print(f\"Average January temperature across all locations: {january_avg_temp:.2f} °C\")"
   ]
  },
  {
   "cell_type": "code",
   "execution_count": 36,
   "metadata": {},
   "outputs": [],
   "source": [
    "temperature_data = np.where(temperature_data > 35, np.nan, temperature_data)\n",
    "extreme_null_count = np.isnan(temperature_data).sum(axis=1)"
   ]
  },
  {
   "cell_type": "code",
   "execution_count": 37,
   "metadata": {},
   "outputs": [],
   "source": [
    "temperature_data_364 = temperature_data[:, :364]\n",
    "quarterly_data = temperature_data_364.reshape(500, 4, 91) \n",
    "quarterly_avg_temp = np.nanmean(quarterly_data, axis=2)"
   ]
  },
  {
   "cell_type": "code",
   "execution_count": 38,
   "metadata": {},
   "outputs": [],
   "source": [
    "dry_days = (humidity_data < 30).sum(axis=1)\n",
    "humid_days = (humidity_data > 70).sum(axis=1)\n",
    "humidity_classification = pd.DataFrame({\"Location\": range(500), \"Dry Days\": dry_days, \"Humid Days\": humid_days})\n"
   ]
  },
  {
   "cell_type": "code",
   "execution_count": 39,
   "metadata": {},
   "outputs": [],
   "source": [
    "pressure_trend = np.linspace(0, 1, 365) \n",
    "temperature_adjusted = temperature_data + pressure_trend"
   ]
  }
 ],
 "metadata": {
  "kernelspec": {
   "display_name": "Python 3",
   "language": "python",
   "name": "python3"
  },
  "language_info": {
   "codemirror_mode": {
    "name": "ipython",
    "version": 3
   },
   "file_extension": ".py",
   "mimetype": "text/x-python",
   "name": "python",
   "nbconvert_exporter": "python",
   "pygments_lexer": "ipython3",
   "version": "3.11.9"
  }
 },
 "nbformat": 4,
 "nbformat_minor": 2
}
