{
 "cells": [
  {
   "cell_type": "code",
   "execution_count": 1,
   "metadata": {},
   "outputs": [
    {
     "data": {
      "text/plain": [
       "(   SaleID  CustomerID     Product  Amount\n",
       " 0     101           1      Laptop     200\n",
       " 1     102           2  Smartphone     500\n",
       " 2     103           3      Tablet     800\n",
       " 3     104           4  Headphones    1100\n",
       " 4     105           5     Monitor    1400,\n",
       "    CustomerID  Age         City\n",
       " 0           1   22     New York\n",
       " 1           2   23  Los Angeles\n",
       " 2           3   24      Chicago\n",
       " 3           4   25      Houston\n",
       " 4           5   26      Phoenix,\n",
       " (400, 4),\n",
       " (100, 3),\n",
       " SaleID        0\n",
       " CustomerID    0\n",
       " Product       0\n",
       " Amount        0\n",
       " dtype: int64,\n",
       " CustomerID    0\n",
       " Age           0\n",
       " City          0\n",
       " dtype: int64)"
      ]
     },
     "execution_count": 1,
     "metadata": {},
     "output_type": "execute_result"
    }
   ],
   "source": [
    "import pandas as pd\n",
    "\n",
    "# Load the datasets into DataFrames\n",
    "sales_file_path = 'E:\\IDS/sales.csv'\n",
    "customers_file_path = 'E:\\IDS/customers.csv'\n",
    "\n",
    "sales_df = pd.read_csv(sales_file_path)\n",
    "customers_df = pd.read_csv(customers_file_path)\n",
    "\n",
    "#TASK 01\n",
    "\n",
    "sales_head = sales_df.head()\n",
    "customers_head = customers_df.head()\n",
    "\n",
    "# Show the total number of rows and columns \n",
    "sales_shape = sales_df.shape\n",
    "customers_shape = customers_df.shape\n",
    "\n",
    "# Check for missing values in each dataset\n",
    "sales_missing = sales_df.isnull().sum()\n",
    "customers_missing = customers_df.isnull().sum()\n",
    "\n",
    "(sales_head, customers_head, sales_shape, customers_shape, sales_missing, customers_missing)\n"
   ]
  },
  {
   "cell_type": "code",
   "execution_count": 2,
   "metadata": {},
   "outputs": [
    {
     "data": {
      "text/plain": [
       "([{'CustomerID': 4, 'Age': 25, 'City': 'Houston'},\n",
       "  {'CustomerID': 9, 'Age': 30, 'City': 'Houston'},\n",
       "  {'CustomerID': 14, 'Age': 35, 'City': 'Houston'},\n",
       "  {'CustomerID': 19, 'Age': 40, 'City': 'Houston'},\n",
       "  {'CustomerID': 24, 'Age': 45, 'City': 'Houston'},\n",
       "  {'CustomerID': 29, 'Age': 50, 'City': 'Houston'},\n",
       "  {'CustomerID': 34, 'Age': 25, 'City': 'Houston'},\n",
       "  {'CustomerID': 39, 'Age': 30, 'City': 'Houston'},\n",
       "  {'CustomerID': 44, 'Age': 35, 'City': 'Houston'},\n",
       "  {'CustomerID': 49, 'Age': 40, 'City': 'Houston'},\n",
       "  {'CustomerID': 54, 'Age': 45, 'City': 'Houston'},\n",
       "  {'CustomerID': 59, 'Age': 50, 'City': 'Houston'},\n",
       "  {'CustomerID': 64, 'Age': 25, 'City': 'Houston'},\n",
       "  {'CustomerID': 69, 'Age': 30, 'City': 'Houston'},\n",
       "  {'CustomerID': 74, 'Age': 35, 'City': 'Houston'},\n",
       "  {'CustomerID': 79, 'Age': 40, 'City': 'Houston'},\n",
       "  {'CustomerID': 84, 'Age': 45, 'City': 'Houston'},\n",
       "  {'CustomerID': 89, 'Age': 50, 'City': 'Houston'},\n",
       "  {'CustomerID': 94, 'Age': 25, 'City': 'Houston'},\n",
       "  {'CustomerID': 99, 'Age': 30, 'City': 'Houston'}],\n",
       "     CustomerID  Age     City\n",
       " 3            4   25  Houston\n",
       " 8            9   30  Houston\n",
       " 13          14   35  Houston\n",
       " 18          19   40  Houston\n",
       " 23          24   45  Houston\n",
       " 28          29   50  Houston\n",
       " 33          34   25  Houston\n",
       " 38          39   30  Houston\n",
       " 43          44   35  Houston\n",
       " 48          49   40  Houston\n",
       " 53          54   45  Houston\n",
       " 58          59   50  Houston\n",
       " 63          64   25  Houston\n",
       " 68          69   30  Houston\n",
       " 73          74   35  Houston\n",
       " 78          79   40  Houston\n",
       " 83          84   45  Houston\n",
       " 88          89   50  Houston\n",
       " 93          94   25  Houston\n",
       " 98          99   30  Houston)"
      ]
     },
     "execution_count": 2,
     "metadata": {},
     "output_type": "execute_result"
    }
   ],
   "source": [
    "#TASK 02\n",
    "\n",
    "# Convert the customers DataFrame into a dictionary\n",
    "customers_dict = customers_df.to_dict(orient='records')\n",
    "\n",
    "# Filter customers from a specific city (e.g., 'Houston') using the dictionary\n",
    "filtered_dict_customers = [customer for customer in customers_dict if customer['City'] == 'Houston']\n",
    "\n",
    "# Filter customers from the same city using the DataFrame\n",
    "filtered_df_customers = customers_df[customers_df['City'] == 'Houston']\n",
    "\n",
    "(filtered_dict_customers, filtered_df_customers)\n"
   ]
  },
  {
   "cell_type": "code",
   "execution_count": 3,
   "metadata": {},
   "outputs": [
    {
     "data": {
      "text/plain": [
       "(np.int64(0), np.int64(0), np.int64(0), np.int64(0))"
      ]
     },
     "execution_count": 3,
     "metadata": {},
     "output_type": "execute_result"
    }
   ],
   "source": [
    "#TASK 03\n",
    "\n",
    "# Check for duplicates in the sales and customers datasets\n",
    "sales_duplicates = sales_df.duplicated().sum()\n",
    "customers_duplicates = customers_df.duplicated().sum()\n",
    "\n",
    "# Remove duplicates\n",
    "sales_df_cleaned = sales_df.drop_duplicates()\n",
    "customers_df_cleaned = customers_df.drop_duplicates()\n",
    "\n",
    "# Verify that there are no duplicates left\n",
    "sales_duplicates_after = sales_df_cleaned.duplicated().sum()\n",
    "customers_duplicates_after = customers_df_cleaned.duplicated().sum()\n",
    "\n",
    "(sales_duplicates, customers_duplicates, sales_duplicates_after, customers_duplicates_after)\n"
   ]
  },
  {
   "cell_type": "code",
   "execution_count": 4,
   "metadata": {},
   "outputs": [
    {
     "data": {
      "text/html": [
       "<div>\n",
       "<style scoped>\n",
       "    .dataframe tbody tr th:only-of-type {\n",
       "        vertical-align: middle;\n",
       "    }\n",
       "\n",
       "    .dataframe tbody tr th {\n",
       "        vertical-align: top;\n",
       "    }\n",
       "\n",
       "    .dataframe thead th {\n",
       "        text-align: right;\n",
       "    }\n",
       "</style>\n",
       "<table border=\"1\" class=\"dataframe\">\n",
       "  <thead>\n",
       "    <tr style=\"text-align: right;\">\n",
       "      <th></th>\n",
       "      <th>Product</th>\n",
       "      <th>Total_Sales</th>\n",
       "    </tr>\n",
       "  </thead>\n",
       "  <tbody>\n",
       "    <tr>\n",
       "      <th>0</th>\n",
       "      <td>Headphones</td>\n",
       "      <td>79200.0</td>\n",
       "    </tr>\n",
       "    <tr>\n",
       "      <th>1</th>\n",
       "      <td>Laptop</td>\n",
       "      <td>14400.0</td>\n",
       "    </tr>\n",
       "    <tr>\n",
       "      <th>2</th>\n",
       "      <td>Monitor</td>\n",
       "      <td>100800.0</td>\n",
       "    </tr>\n",
       "    <tr>\n",
       "      <th>3</th>\n",
       "      <td>Smartphone</td>\n",
       "      <td>36000.0</td>\n",
       "    </tr>\n",
       "    <tr>\n",
       "      <th>4</th>\n",
       "      <td>Tablet</td>\n",
       "      <td>57600.0</td>\n",
       "    </tr>\n",
       "  </tbody>\n",
       "</table>\n",
       "</div>"
      ],
      "text/plain": [
       "      Product  Total_Sales\n",
       "0  Headphones      79200.0\n",
       "1      Laptop      14400.0\n",
       "2     Monitor     100800.0\n",
       "3  Smartphone      36000.0\n",
       "4      Tablet      57600.0"
      ]
     },
     "execution_count": 4,
     "metadata": {},
     "output_type": "execute_result"
    }
   ],
   "source": [
    "# TASK 04\n",
    "\n",
    "# Add a new column with a 10% discount applied to the Amount column\n",
    "sales_df_cleaned['Discounted_Amount'] = sales_df_cleaned['Amount'] * 0.9\n",
    "\n",
    "# Group the data by Product and calculate total sales for each product\n",
    "product_sales_summary = sales_df_cleaned.groupby('Product')['Discounted_Amount'].sum().reset_index()\n",
    "product_sales_summary.rename(columns={'Discounted_Amount': 'Total_Sales'}, inplace=True)\n",
    "\n",
    "sales_head_with_discount = sales_df_cleaned.head()\n",
    "product_sales_summary\n"
   ]
  },
  {
   "cell_type": "code",
   "execution_count": 5,
   "metadata": {},
   "outputs": [
    {
     "name": "stdout",
     "output_type": "stream",
     "text": [
      "          City  Customer_Count\n",
      "0      Chicago               7\n",
      "1      Houston              11\n",
      "2  Los Angeles               7\n",
      "3     New York               7\n",
      "4      Phoenix               8\n"
     ]
    }
   ],
   "source": [
    "#TASK 05\n",
    "\n",
    "#Filter Customers by Age Range\n",
    "filtered_customers = customers_df[(customers_df['Age'] >= 25) & (customers_df['Age'] <= 35)]\n",
    "\n",
    "#Count Customers by City\n",
    "customers_by_city = filtered_customers.groupby('City').size().reset_index(name='Customer_Count')\n",
    "print(customers_by_city)\n"
   ]
  },
  {
   "cell_type": "code",
   "execution_count": 6,
   "metadata": {},
   "outputs": [
    {
     "name": "stdout",
     "output_type": "stream",
     "text": [
      "City with highest sales: City      Phoenix\n",
      "Amount     112000\n",
      "Name: 4, dtype: object\n",
      "Product with most units sold: Product       Headphones\n",
      "Units_Sold            80\n",
      "Name: 0, dtype: object\n"
     ]
    }
   ],
   "source": [
    "#TASK 06\n",
    "\n",
    "merged_data = pd.merge(customers_df, sales_df, on='CustomerID')\n",
    "\n",
    "#Identify the city that generated the highest total sales.\n",
    "city_sales = merged_data.groupby('City')['Amount'].sum().reset_index()\n",
    "top_city = city_sales.loc[city_sales['Amount'].idxmax()]\n",
    "print(f\"City with highest sales: {top_city}\")\n",
    "\n",
    "#Find the product with the most units sold\n",
    "product_units = merged_data.groupby('Product').size().reset_index(name='Units_Sold')\n",
    "top_product = product_units.loc[product_units['Units_Sold'].idxmax()]\n",
    "print(f\"Product with most units sold: {top_product}\")\n"
   ]
  },
  {
   "cell_type": "code",
   "execution_count": 7,
   "metadata": {},
   "outputs": [
    {
     "data": {
      "text/plain": [
       "(array(['New York', 'Los Angeles', 'Chicago', 'Houston', 'Phoenix'],\n",
       "       dtype=object),\n",
       " array(['Laptop', 'Smartphone', 'Tablet', 'Headphones', 'Monitor'],\n",
       "       dtype=object),\n",
       " np.float64(800.0),\n",
       " np.float64(800.0))"
      ]
     },
     "execution_count": 7,
     "metadata": {},
     "output_type": "execute_result"
    }
   ],
   "source": [
    "#TASK 07\n",
    "\n",
    "# Merge customers.csv and sales.csv on CustomerID\n",
    "merged_data = pd.merge(customers_df_cleaned, sales_df_cleaned, on='CustomerID')\n",
    "\n",
    "# Display unique values in the City and Product columns\n",
    "unique_cities = merged_data['City'].unique()\n",
    "unique_products = merged_data['Product'].unique()\n",
    "\n",
    "# Calculate the mean and median of the Amount column\n",
    "amount_mean = merged_data['Amount'].mean()\n",
    "amount_median = merged_data['Amount'].median()\n",
    "\n",
    "(unique_cities, unique_products, amount_mean, amount_median)\n",
    "\n"
   ]
  }
 ],
 "metadata": {
  "kernelspec": {
   "display_name": "Python 3",
   "language": "python",
   "name": "python3"
  },
  "language_info": {
   "codemirror_mode": {
    "name": "ipython",
    "version": 3
   },
   "file_extension": ".py",
   "mimetype": "text/x-python",
   "name": "python",
   "nbconvert_exporter": "python",
   "pygments_lexer": "ipython3",
   "version": "3.11.9"
  }
 },
 "nbformat": 4,
 "nbformat_minor": 2
}
