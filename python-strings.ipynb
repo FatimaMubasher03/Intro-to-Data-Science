{
 "cells": [
  {
   "cell_type": "markdown",
   "id": "8f38b7cd",
   "metadata": {
    "papermill": {
     "duration": 0.005102,
     "end_time": "2024-12-04T08:05:37.003598",
     "exception": false,
     "start_time": "2024-12-04T08:05:36.998496",
     "status": "completed"
    },
    "tags": []
   },
   "source": [
    "# Defining Strings In Python\n"
   ]
  },
  {
   "cell_type": "markdown",
   "id": "d0f61bc7",
   "metadata": {
    "papermill": {
     "duration": 0.005206,
     "end_time": "2024-12-04T08:05:37.013518",
     "exception": false,
     "start_time": "2024-12-04T08:05:37.008312",
     "status": "completed"
    },
    "tags": []
   },
   "source": [
    "- A string is a collection of character(s) closed within single or double quotation marks. (There is no `char` data type in Python as in C/C++)\n",
    "- A string can also contain a single character or be entirely empty.\n",
    "- To make a single quote part of a string, define the string using double quotes and vice versa. You can also make use of escape sequence"
   ]
  },
  {
   "cell_type": "code",
   "execution_count": 1,
   "id": "dd06f586",
   "metadata": {
    "execution": {
     "iopub.execute_input": "2024-12-04T08:05:37.024317Z",
     "iopub.status.busy": "2024-12-04T08:05:37.023947Z",
     "iopub.status.idle": "2024-12-04T08:05:37.034449Z",
     "shell.execute_reply": "2024-12-04T08:05:37.033277Z"
    },
    "papermill": {
     "duration": 0.018395,
     "end_time": "2024-12-04T08:05:37.036432",
     "exception": false,
     "start_time": "2024-12-04T08:05:37.018037",
     "status": "completed"
    },
    "tags": []
   },
   "outputs": [
    {
     "name": "stdout",
     "output_type": "stream",
     "text": [
      "Hello\n",
      "World\n",
      "\n",
      "A\n"
     ]
    }
   ],
   "source": [
    "string1 = 'Hello'\n",
    "print(string1)\n",
    "\n",
    "string2 = \"World\"\n",
    "print(string2)\n",
    "\n",
    "string3 = \"\"\n",
    "print(string3)\n",
    "\n",
    "string4 = \"A\"\n",
    "print(string4)"
   ]
  },
  {
   "cell_type": "code",
   "execution_count": 2,
   "id": "44e89757",
   "metadata": {
    "execution": {
     "iopub.execute_input": "2024-12-04T08:05:37.047119Z",
     "iopub.status.busy": "2024-12-04T08:05:37.046777Z",
     "iopub.status.idle": "2024-12-04T08:05:37.052060Z",
     "shell.execute_reply": "2024-12-04T08:05:37.051107Z"
    },
    "papermill": {
     "duration": 0.013051,
     "end_time": "2024-12-04T08:05:37.054273",
     "exception": false,
     "start_time": "2024-12-04T08:05:37.041222",
     "status": "completed"
    },
    "tags": []
   },
   "outputs": [
    {
     "name": "stdout",
     "output_type": "stream",
     "text": [
      "Hello, This is\n",
      "            multi-line string\n",
      "Hello, This is\n",
      "            multi-line string\n"
     ]
    }
   ],
   "source": [
    "# triple quotes string can extend multiple lines\n",
    "\n",
    "string5 = \"\"\"Hello, This is\n",
    "            multi-line string\"\"\"\n",
    "print(string5)\n",
    "\n",
    "string5 = '''Hello, This is\n",
    "            multi-line string'''\n",
    "print(string5)"
   ]
  },
  {
   "cell_type": "markdown",
   "id": "9c7618aa",
   "metadata": {
    "papermill": {
     "duration": 0.004459,
     "end_time": "2024-12-04T08:05:37.063453",
     "exception": false,
     "start_time": "2024-12-04T08:05:37.058994",
     "status": "completed"
    },
    "tags": []
   },
   "source": [
    "## Accessing Characters of a String in Python\n",
    "- Since string is of type sequence, and any component within a sequence can be accessed by entrying an index within square brackets. So naturally this work for strings as well\n",
    "- Similarly, if we want to find out the index of a specific item/character, we can use the `str.index()` method"
   ]
  },
  {
   "cell_type": "code",
   "execution_count": 3,
   "id": "20572015",
   "metadata": {
    "execution": {
     "iopub.execute_input": "2024-12-04T08:05:37.074273Z",
     "iopub.status.busy": "2024-12-04T08:05:37.073450Z",
     "iopub.status.idle": "2024-12-04T08:05:37.079100Z",
     "shell.execute_reply": "2024-12-04T08:05:37.078148Z"
    },
    "papermill": {
     "duration": 0.013332,
     "end_time": "2024-12-04T08:05:37.081199",
     "exception": false,
     "start_time": "2024-12-04T08:05:37.067867",
     "status": "completed"
    },
    "tags": []
   },
   "outputs": [
    {
     "name": "stdout",
     "output_type": "stream",
     "text": [
      "str =  Python Programming is fun\n",
      "str[0] =  P\n",
      "str[-1] =  n\n",
      "str[-2] =  u\n"
     ]
    }
   ],
   "source": [
    "str = 'Python Programming is fun'\n",
    "print('str = ', str)\n",
    "\n",
    "#access first index\n",
    "print('str[0] = ', str[0])\n",
    "\n",
    "# Negative indices start from the opposite end of the string. Hence, -1 index corresponds to the last character\n",
    "print('str[-1] = ', str[-1])\n",
    "\n",
    "#access second last index\n",
    "print('str[-2] = ', str[-2])\n",
    "\n",
    "#print(str[17])     #access an index out of the range, will get error\n",
    "\n",
    "#print(str[1.5])    #use numbers other than an integer as index will flag an error"
   ]
  },
  {
   "cell_type": "code",
   "execution_count": 4,
   "id": "fb4a668f",
   "metadata": {
    "execution": {
     "iopub.execute_input": "2024-12-04T08:05:37.092801Z",
     "iopub.status.busy": "2024-12-04T08:05:37.092480Z",
     "iopub.status.idle": "2024-12-04T08:05:37.099296Z",
     "shell.execute_reply": "2024-12-04T08:05:37.098291Z"
    },
    "papermill": {
     "duration": 0.014457,
     "end_time": "2024-12-04T08:05:37.101255",
     "exception": false,
     "start_time": "2024-12-04T08:05:37.086798",
     "status": "completed"
    },
    "tags": []
   },
   "outputs": [
    {
     "data": {
      "text/plain": [
       "2"
      ]
     },
     "execution_count": 4,
     "metadata": {},
     "output_type": "execute_result"
    }
   ],
   "source": [
    "# To find out the index of a specific character\n",
    "str = \"Python Programming is fun\"\n",
    "str.index('th')"
   ]
  },
  {
   "cell_type": "code",
   "execution_count": 5,
   "id": "d2a25d05",
   "metadata": {
    "execution": {
     "iopub.execute_input": "2024-12-04T08:05:37.112334Z",
     "iopub.status.busy": "2024-12-04T08:05:37.111918Z",
     "iopub.status.idle": "2024-12-04T08:05:37.116992Z",
     "shell.execute_reply": "2024-12-04T08:05:37.115947Z"
    },
    "papermill": {
     "duration": 0.012927,
     "end_time": "2024-12-04T08:05:37.119008",
     "exception": false,
     "start_time": "2024-12-04T08:05:37.106081",
     "status": "completed"
    },
    "tags": []
   },
   "outputs": [
    {
     "name": "stdout",
     "output_type": "stream",
     "text": [
      "['__abs__', '__add__', '__bool__', '__ceil__', '__class__', '__delattr__', '__dir__', '__divmod__', '__doc__', '__eq__', '__float__', '__floor__', '__floordiv__', '__format__', '__ge__', '__getattribute__', '__getformat__', '__getnewargs__', '__gt__', '__hash__', '__init__', '__init_subclass__', '__int__', '__le__', '__lt__', '__mod__', '__mul__', '__ne__', '__neg__', '__new__', '__pos__', '__pow__', '__radd__', '__rdivmod__', '__reduce__', '__reduce_ex__', '__repr__', '__rfloordiv__', '__rmod__', '__rmul__', '__round__', '__rpow__', '__rsub__', '__rtruediv__', '__setattr__', '__setformat__', '__sizeof__', '__str__', '__sub__', '__subclasshook__', '__truediv__', '__trunc__', 'as_integer_ratio', 'conjugate', 'fromhex', 'hex', 'imag', 'is_integer', 'real']\n"
     ]
    }
   ],
   "source": [
    "print(dir(float))"
   ]
  },
  {
   "cell_type": "markdown",
   "id": "47b7e31e",
   "metadata": {
    "papermill": {
     "duration": 0.004551,
     "end_time": "2024-12-04T08:05:37.128434",
     "exception": false,
     "start_time": "2024-12-04T08:05:37.123883",
     "status": "completed"
    },
    "tags": []
   },
   "source": [
    "#  Slicing Strings\n",
    "\r\n",
    "Slicing is the process of obtaining a portion (substring) of a string by using its indices\n",
    ".\r\n",
    "Given a string, we can use the following syntax to slice it and obtain a substring:\r\n",
    "string[start:e\n",
    "nd]\r\n",
    "start is the index from where we want the substring to start. If start is not provided, slicing starts from the beginning.\r\n",
    "end is the index where we want our substring to end (not inclusive in the substring). If end is not provided, slicing goes till the end of the string (includes the last character of the string)."
   ]
  },
  {
   "cell_type": "code",
   "execution_count": 6,
   "id": "cb1100d9",
   "metadata": {
    "execution": {
     "iopub.execute_input": "2024-12-04T08:05:37.139480Z",
     "iopub.status.busy": "2024-12-04T08:05:37.139143Z",
     "iopub.status.idle": "2024-12-04T08:05:37.145231Z",
     "shell.execute_reply": "2024-12-04T08:05:37.144265Z"
    },
    "papermill": {
     "duration": 0.014108,
     "end_time": "2024-12-04T08:05:37.147323",
     "exception": false,
     "start_time": "2024-12-04T08:05:37.133215",
     "status": "completed"
    },
    "tags": []
   },
   "outputs": [
    {
     "name": "stdout",
     "output_type": "stream",
     "text": [
      "Data\n",
      "Data\n",
      "Tools\n",
      "Techniques\n",
      "Techni\n",
      "\n"
     ]
    }
   ],
   "source": [
    "str1 = 'DataScienceToolsAndTechniques'\n",
    "\n",
    "print(str1[0:4]) # From the start till before the 4th index\n",
    "print(str1[:4]) # From the start till before the 4th index\n",
    "print(str1[11:16])\n",
    "print(str1[19:]) # From the 19th index till the end\n",
    "print(str1[19:len(str)]) # From the 19th index till the end\n",
    "#if start is greater than end, it will return empty string\n",
    "print(str1[5:2])"
   ]
  },
  {
   "cell_type": "code",
   "execution_count": 7,
   "id": "3a275764",
   "metadata": {
    "execution": {
     "iopub.execute_input": "2024-12-04T08:05:37.159001Z",
     "iopub.status.busy": "2024-12-04T08:05:37.158643Z",
     "iopub.status.idle": "2024-12-04T08:05:37.164437Z",
     "shell.execute_reply": "2024-12-04T08:05:37.163381Z"
    },
    "papermill": {
     "duration": 0.013913,
     "end_time": "2024-12-04T08:05:37.166327",
     "exception": false,
     "start_time": "2024-12-04T08:05:37.152414",
     "status": "completed"
    },
    "tags": []
   },
   "outputs": [
    {
     "name": "stdout",
     "output_type": "stream",
     "text": [
      "DataScienceToolsAndTechniques\n",
      "DataScienceToolsAndTechniques\n",
      "DtSineolAdehius\n"
     ]
    }
   ],
   "source": [
    "str1 = 'DataScienceToolsAndTechniques'\n",
    "print(str1[::])  # A default step of 1\n",
    "print(str1[::1])  # A step of 1\n",
    "print(str1[::2])  # A step of 2"
   ]
  },
  {
   "cell_type": "code",
   "execution_count": 8,
   "id": "ece890ef",
   "metadata": {
    "execution": {
     "iopub.execute_input": "2024-12-04T08:05:37.177490Z",
     "iopub.status.busy": "2024-12-04T08:05:37.177164Z",
     "iopub.status.idle": "2024-12-04T08:05:37.182305Z",
     "shell.execute_reply": "2024-12-04T08:05:37.181379Z"
    },
    "papermill": {
     "duration": 0.013044,
     "end_time": "2024-12-04T08:05:37.184265",
     "exception": false,
     "start_time": "2024-12-04T08:05:37.171221",
     "status": "completed"
    },
    "tags": []
   },
   "outputs": [
    {
     "name": "stdout",
     "output_type": "stream",
     "text": [
      "9876543210\n",
      "5432\n",
      "\n",
      "97531\n"
     ]
    }
   ],
   "source": [
    "str1 = '0123456789'\n",
    "print(str1[::-1]) \n",
    "print(str1[5:1:-1]) \n",
    "print(str1[2:10:-1])\n",
    "print(str1[::-2]) "
   ]
  },
  {
   "cell_type": "markdown",
   "id": "902034e8",
   "metadata": {
    "papermill": {
     "duration": 0.004996,
     "end_time": "2024-12-04T08:05:37.194203",
     "exception": false,
     "start_time": "2024-12-04T08:05:37.189207",
     "status": "completed"
    },
    "tags": []
   },
   "source": [
    "# String Concatenation\r\n",
    "Two strings can be joined or concatenated using the + operator"
   ]
  },
  {
   "cell_type": "code",
   "execution_count": 9,
   "id": "c08cb3e7",
   "metadata": {
    "execution": {
     "iopub.execute_input": "2024-12-04T08:05:37.205502Z",
     "iopub.status.busy": "2024-12-04T08:05:37.205178Z",
     "iopub.status.idle": "2024-12-04T08:05:37.210178Z",
     "shell.execute_reply": "2024-12-04T08:05:37.209262Z"
    },
    "papermill": {
     "duration": 0.013276,
     "end_time": "2024-12-04T08:05:37.212422",
     "exception": false,
     "start_time": "2024-12-04T08:05:37.199146",
     "status": "completed"
    },
    "tags": []
   },
   "outputs": [
    {
     "name": "stdout",
     "output_type": "stream",
     "text": [
      "str1 + str2 =  Hello World!\n",
      "Yello World!\n"
     ]
    }
   ],
   "source": [
    "str1 = 'Hello'\n",
    "str2 =' World!'\n",
    "str3 = str1 + str2\n",
    "print('str1 + str2 = ', str3)\n",
    "\n",
    "\n",
    "print(\"Y\" + str3[1:])"
   ]
  },
  {
   "cell_type": "markdown",
   "id": "554dc10e",
   "metadata": {
    "papermill": {
     "duration": 0.005014,
     "end_time": "2024-12-04T08:05:37.222427",
     "exception": false,
     "start_time": "2024-12-04T08:05:37.217413",
     "status": "completed"
    },
    "tags": []
   },
   "source": [
    "# Creating Large strings\r\n",
    "A string can be replicated/repeated using the * operator"
   ]
  },
  {
   "cell_type": "code",
   "execution_count": 10,
   "id": "ecd2db8e",
   "metadata": {
    "execution": {
     "iopub.execute_input": "2024-12-04T08:05:37.234504Z",
     "iopub.status.busy": "2024-12-04T08:05:37.233552Z",
     "iopub.status.idle": "2024-12-04T08:05:37.238816Z",
     "shell.execute_reply": "2024-12-04T08:05:37.237944Z"
    },
    "papermill": {
     "duration": 0.01331,
     "end_time": "2024-12-04T08:05:37.240726",
     "exception": false,
     "start_time": "2024-12-04T08:05:37.227416",
     "status": "completed"
    },
    "tags": []
   },
   "outputs": [
    {
     "name": "stdout",
     "output_type": "stream",
     "text": [
      "str1 * 5 = HelloHelloHelloHelloHello\n",
      "AAAAAAAAAAAAAAAAAAAAAAAAAAAAAAAAAAAAAAAAAAAAAAAAAAAAAAAAAAAAAAAAAAAAAAAAAAAAAAAAAAAAAAAAAAAAAAAAAAAA\n"
     ]
    }
   ],
   "source": [
    "str1 = 'Hello'\n",
    "print('str1 * 5 =', str1 * 5)\n",
    "\n",
    "buffer = 'A' * 100\n",
    "print(buffer)"
   ]
  },
  {
   "cell_type": "markdown",
   "id": "f0531b58",
   "metadata": {
    "papermill": {
     "duration": 0.004873,
     "end_time": "2024-12-04T08:05:37.250665",
     "exception": false,
     "start_time": "2024-12-04T08:05:37.245792",
     "status": "completed"
    },
    "tags": []
   },
   "source": [
    "# String Methods"
   ]
  },
  {
   "cell_type": "code",
   "execution_count": 11,
   "id": "bd4bb2d9",
   "metadata": {
    "execution": {
     "iopub.execute_input": "2024-12-04T08:05:37.263646Z",
     "iopub.status.busy": "2024-12-04T08:05:37.262787Z",
     "iopub.status.idle": "2024-12-04T08:05:37.268813Z",
     "shell.execute_reply": "2024-12-04T08:05:37.267968Z"
    },
    "papermill": {
     "duration": 0.014619,
     "end_time": "2024-12-04T08:05:37.270822",
     "exception": false,
     "start_time": "2024-12-04T08:05:37.256203",
     "status": "completed"
    },
    "tags": []
   },
   "outputs": [
    {
     "data": {
      "text/plain": [
       "5"
      ]
     },
     "execution_count": 11,
     "metadata": {},
     "output_type": "execute_result"
    }
   ],
   "source": [
    "str1= \"Hello World\"\n",
    "mylist = [1,2,3,4,5]\n",
    "len(str1)\n",
    "len(mylist)"
   ]
  },
  {
   "cell_type": "code",
   "execution_count": 12,
   "id": "f73c9f3a",
   "metadata": {
    "execution": {
     "iopub.execute_input": "2024-12-04T08:05:37.282836Z",
     "iopub.status.busy": "2024-12-04T08:05:37.282504Z",
     "iopub.status.idle": "2024-12-04T08:05:37.287509Z",
     "shell.execute_reply": "2024-12-04T08:05:37.286573Z"
    },
    "papermill": {
     "duration": 0.013267,
     "end_time": "2024-12-04T08:05:37.289426",
     "exception": false,
     "start_time": "2024-12-04T08:05:37.276159",
     "status": "completed"
    },
    "tags": []
   },
   "outputs": [
    {
     "name": "stdout",
     "output_type": "stream",
     "text": [
      "    hello world, this is       Arif Butt      \n",
      "hello world, this is       Arif Butt\n"
     ]
    }
   ],
   "source": [
    "buffer =\"    hello world, this is       Arif Butt      \"\n",
    "rv = buffer.strip()\n",
    "print(buffer)\n",
    "print(rv)"
   ]
  },
  {
   "cell_type": "code",
   "execution_count": 13,
   "id": "59ff7a71",
   "metadata": {
    "execution": {
     "iopub.execute_input": "2024-12-04T08:05:37.302197Z",
     "iopub.status.busy": "2024-12-04T08:05:37.301455Z",
     "iopub.status.idle": "2024-12-04T08:05:37.307603Z",
     "shell.execute_reply": "2024-12-04T08:05:37.306683Z"
    },
    "papermill": {
     "duration": 0.014732,
     "end_time": "2024-12-04T08:05:37.309522",
     "exception": false,
     "start_time": "2024-12-04T08:05:37.294790",
     "status": "completed"
    },
    "tags": []
   },
   "outputs": [
    {
     "name": "stdout",
     "output_type": "stream",
     "text": [
      "True\n",
      "False\n",
      "True\n",
      "False\n",
      "True\n"
     ]
    }
   ],
   "source": [
    "str1 = \"Learning is fun with Arif Butt\"\n",
    "\n",
    "rv = str1.startswith('Learning')\n",
    "print(rv)\n",
    "\n",
    "rv = str1.startswith('Arif')\n",
    "print(rv)\n",
    "\n",
    "\n",
    "rv = str1.startswith('Arif', 21)\n",
    "print(rv)\n",
    "\n",
    "# case sensitive\n",
    "rv = str1.startswith('arif', 21)\n",
    "print(rv)\n",
    "\n",
    "rv = str1.startswith('arn', 2, 10)  # character at ending index is not included\n",
    "print(rv)"
   ]
  },
  {
   "cell_type": "code",
   "execution_count": 14,
   "id": "fdaecab0",
   "metadata": {
    "execution": {
     "iopub.execute_input": "2024-12-04T08:05:37.322070Z",
     "iopub.status.busy": "2024-12-04T08:05:37.321691Z",
     "iopub.status.idle": "2024-12-04T08:05:37.326958Z",
     "shell.execute_reply": "2024-12-04T08:05:37.325816Z"
    },
    "papermill": {
     "duration": 0.014253,
     "end_time": "2024-12-04T08:05:37.329292",
     "exception": false,
     "start_time": "2024-12-04T08:05:37.315039",
     "status": "completed"
    },
    "tags": []
   },
   "outputs": [
    {
     "name": "stdout",
     "output_type": "stream",
     "text": [
      "['Learning', 'is', 'fun', 'with', 'Arif', 'Butt']\n",
      "<class 'list'>\n"
     ]
    }
   ],
   "source": [
    "str1 = 'Learning is fun with Arif Butt'\n",
    "rv = str1.split()\n",
    "print(rv)\n",
    "print(type(rv))"
   ]
  },
  {
   "cell_type": "code",
   "execution_count": 15,
   "id": "7d69ebf9",
   "metadata": {
    "execution": {
     "iopub.execute_input": "2024-12-04T08:05:37.341691Z",
     "iopub.status.busy": "2024-12-04T08:05:37.341330Z",
     "iopub.status.idle": "2024-12-04T08:05:37.347143Z",
     "shell.execute_reply": "2024-12-04T08:05:37.346249Z"
    },
    "papermill": {
     "duration": 0.014359,
     "end_time": "2024-12-04T08:05:37.349209",
     "exception": false,
     "start_time": "2024-12-04T08:05:37.334850",
     "status": "completed"
    },
    "tags": []
   },
   "outputs": [
    {
     "name": "stdout",
     "output_type": "stream",
     "text": [
      "0\n",
      "16\n",
      "4\n",
      "15\n",
      "-1\n",
      "4\n"
     ]
    }
   ],
   "source": [
    "str1 = 'DataScienceToolsAndTechniques'\n",
    "print(str1.find('Data'))\n",
    "print(str1.find('And'))\n",
    "\n",
    "\n",
    "print(str1.find('S',2)) # second argument starts searching from that index\n",
    "print(str1.find('s',2)) # case sensitive\n",
    "\n",
    "print(str1.find('S',0, 4)) # third argument stops searching uptill that index\n",
    "print(str1.find('S',0, 5)) "
   ]
  },
  {
   "cell_type": "code",
   "execution_count": 16,
   "id": "3a96ae9e",
   "metadata": {
    "execution": {
     "iopub.execute_input": "2024-12-04T08:05:37.361844Z",
     "iopub.status.busy": "2024-12-04T08:05:37.361104Z",
     "iopub.status.idle": "2024-12-04T08:05:37.366235Z",
     "shell.execute_reply": "2024-12-04T08:05:37.365320Z"
    },
    "papermill": {
     "duration": 0.013783,
     "end_time": "2024-12-04T08:05:37.368318",
     "exception": false,
     "start_time": "2024-12-04T08:05:37.354535",
     "status": "completed"
    },
    "tags": []
   },
   "outputs": [
    {
     "name": "stdout",
     "output_type": "stream",
     "text": [
      "Welcome to Learning Data Science with Arif\n",
      "Welcome to Learning Life with Arif\n"
     ]
    }
   ],
   "source": [
    "str1 = 'Welcome to Learning Data Science with Arif'\n",
    "newstring = str1.replace('Data Science', 'Life')\n",
    "print(str1)\n",
    "print(newstring)"
   ]
  },
  {
   "cell_type": "code",
   "execution_count": 17,
   "id": "b5287dac",
   "metadata": {
    "execution": {
     "iopub.execute_input": "2024-12-04T08:05:37.381433Z",
     "iopub.status.busy": "2024-12-04T08:05:37.381080Z",
     "iopub.status.idle": "2024-12-04T08:05:37.386634Z",
     "shell.execute_reply": "2024-12-04T08:05:37.385699Z"
    },
    "papermill": {
     "duration": 0.014443,
     "end_time": "2024-12-04T08:05:37.388577",
     "exception": false,
     "start_time": "2024-12-04T08:05:37.374134",
     "status": "completed"
    },
    "tags": []
   },
   "outputs": [
    {
     "name": "stdout",
     "output_type": "stream",
     "text": [
      "Mr. Hadeed Butt, your total cost is 100, percentage discount is 0.2, and bill is 80.0\n"
     ]
    }
   ],
   "source": [
    "name=\"Hadeed Butt\"\n",
    "cost = 100\n",
    "discount = .2\n",
    "bill = cost - cost * discount\n",
    "\n",
    "print(\"Mr. {2}, your total cost is {1}, percentage discount is {3}, and bill is {0}\" \n",
    "      . format(bill, cost, name, discount))"
   ]
  }
 ],
 "metadata": {
  "kaggle": {
   "accelerator": "none",
   "dataSources": [],
   "dockerImageVersionId": 30786,
   "isGpuEnabled": false,
   "isInternetEnabled": false,
   "language": "python",
   "sourceType": "notebook"
  },
  "kernelspec": {
   "display_name": "Python 3",
   "language": "python",
   "name": "python3"
  },
  "language_info": {
   "codemirror_mode": {
    "name": "ipython",
    "version": 3
   },
   "file_extension": ".py",
   "mimetype": "text/x-python",
   "name": "python",
   "nbconvert_exporter": "python",
   "pygments_lexer": "ipython3",
   "version": "3.10.14"
  },
  "papermill": {
   "default_parameters": {},
   "duration": 3.338021,
   "end_time": "2024-12-04T08:05:37.713571",
   "environment_variables": {},
   "exception": null,
   "input_path": "__notebook__.ipynb",
   "output_path": "__notebook__.ipynb",
   "parameters": {},
   "start_time": "2024-12-04T08:05:34.375550",
   "version": "2.6.0"
  }
 },
 "nbformat": 4,
 "nbformat_minor": 5
}
