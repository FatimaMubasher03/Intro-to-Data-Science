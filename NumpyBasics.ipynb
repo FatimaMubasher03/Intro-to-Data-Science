{
 "cells": [
  {
   "cell_type": "code",
   "execution_count": 20,
   "metadata": {},
   "outputs": [],
   "source": [
    "import numpy as np\n",
    "import pandas as pd"
   ]
  },
  {
   "cell_type": "code",
   "execution_count": 34,
   "metadata": {},
   "outputs": [
    {
     "name": "stdout",
     "output_type": "stream",
     "text": [
      "Player Stats:\n",
      " [[175  80  90]\n",
      " [150  76  86]\n",
      " [160  65  78]\n",
      " [165  87  78]]\n"
     ]
    }
   ],
   "source": [
    "player_stats=np.array([[175,80,90],[150,76,86],[165,80,75]])\n",
    "max_point_index=np.argmax(player_stats[:,2])\n",
    "player_stats[max_point_index,1]=80\n",
    "new_player=[165,87,78]\n",
    "player_stats=np.vstack([player_stats,new_player])\n",
    "new_stats=[160,65,78]\n",
    "insert_index=2\n",
    "player_stats=np.insert(player_stats,insert_index,new_stats,axis=0)\n",
    "min_points_index=np.argmin(player_stats[:,2])\n",
    "player_stats=np.delete(player_stats,min_points_index,axis=0)\n",
    "print(\"Player Stats:\"'\\n',player_stats)"
   ]
  },
  {
   "cell_type": "code",
   "execution_count": 35,
   "metadata": {},
   "outputs": [
    {
     "name": "stdout",
     "output_type": "stream",
     "text": [
      "Shallow_Copy:\n",
      " [120 200 300 400]\n",
      "Deep_Copy:\n",
      " [1 2 3 4]\n",
      "Concatenated_Array:\n",
      " [100 200 300 400   1   2   3   4]\n",
      "Greater Than 150:\n",
      " [200 300 400]\n",
      "Less than 150:\n",
      " [100   1   2   3   4]\n"
     ]
    }
   ],
   "source": [
    "purchase_amount=np.array([100,200,300,400])\n",
    "item_count=np.array([1,2,3,4])\n",
    "shallow_copy=purchase_amount.view()\n",
    "deep_copy=item_count.copy()\n",
    "concatenated_array=np.concatenate((purchase_amount,item_count))\n",
    "split_condition=concatenated_array>150\n",
    "greater_than_150=concatenated_array[split_condition]\n",
    "less_than_150=concatenated_array[~split_condition]\n",
    "purchase_amount[0]=120\n",
    "item_count[0]=10\n",
    "print(\"Shallow_Copy:\"'\\n',shallow_copy)\n",
    "print(\"Deep_Copy:\"'\\n',deep_copy)\n",
    "print(\"Concatenated_Array:\"'\\n',concatenated_array)\n",
    "print(\"Greater Than 150:\"'\\n',greater_than_150)\n",
    "print(\"Less than 150:\"'\\n',less_than_150)\n",
    "\n"
   ]
  },
  {
   "cell_type": "code",
   "execution_count": null,
   "metadata": {},
   "outputs": [],
   "source": []
  }
 ],
 "metadata": {
  "kernelspec": {
   "display_name": "Python 3",
   "language": "python",
   "name": "python3"
  },
  "language_info": {
   "codemirror_mode": {
    "name": "ipython",
    "version": 3
   },
   "file_extension": ".py",
   "mimetype": "text/x-python",
   "name": "python",
   "nbconvert_exporter": "python",
   "pygments_lexer": "ipython3",
   "version": "3.11.9"
  }
 },
 "nbformat": 4,
 "nbformat_minor": 2
}
