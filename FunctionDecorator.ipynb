{
 "cells": [
  {
   "cell_type": "code",
   "execution_count": null,
   "metadata": {
    "vscode": {
     "languageId": "plaintext"
    }
   },
   "outputs": [],
   "source": [
    
    "\n",
    "import functools\n",
    "\n",
    "def exception_logging_decorator(func):\n",
    "    @functools.wraps(func)\n",
    "    def wrapper(*args, **kwargs):\n",
    "        try:\n",
    "            return func(*args, **kwargs)\n",
    "        except Exception as e:\n",
    "            print(f\"Exception occurred in {func.__name__}: {type(e).__name__} - {e}\")\n",
    "            raise\n",
    "    return wrapper\n",
    "\n",
    "# Example usage of the decorator\n",
    "@exception_logging_decorator\n",
    "def divide(a, b):\n",
    "    return a / b\n",
    "\n",
    "# Test with exception\n",
    "try:\n",
    "    result = divide(10, 0)\n",
    "except ZeroDivisionError:\n",
    "    pass\n"
   ]
  },
  {
   "cell_type": "code",
   "execution_count": null,
   "metadata": {
    "vscode": {
     "languageId": "plaintext"
    }
   },
   "outputs": [],
   "source": [
    "# Task 3 - Part A: Chained Exceptions\n",
    "\n",
    "class DivisionByZeroError(Exception):\n",
    "    pass\n",
    "\n",
    "def divide_numbers(numbers, divisor):\n",
    "    try:\n",
    "        if divisor == 0:\n",
    "            raise DivisionByZeroError(\"Divisor cannot be zero\")\n",
    "        return [num / divisor for num in numbers]\n",
    "    except TypeError as e:\n",
    "        raise ValueError(\"Non-numeric input encountered\") from e\n",
    "\n",
    "# Test chained exceptions\n",
    "try:\n",
    "    result = divide_numbers([10, 20, 'thirty'], 2)\n",
    "except Exception as e:\n",
    "    print(f\"Error: {e}\")\n"
   ]
  }
 ],
 "metadata": {
  "language_info": {
   "name": "python"
  }
 },
 "nbformat": 4,
 "nbformat_minor": 2
}
