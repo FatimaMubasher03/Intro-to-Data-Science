{
 "cells": [
  {
   "cell_type": "code",
   "execution_count": null,
   "metadata": {
    "vscode": {
     "languageId": "plaintext"
    }
   },
   "outputs": [],
   "source": [
    "# Task 02 - Part B: Fibonacci Generator\n",
    "\n",
    "def fibonacci_generator(n):\n",
    "    a, b = 0, 1\n",
    "    while a <= n:\n",
    "        yield a\n",
    "        a, b = b, a + b\n",
    "\n",
    "# Generate Fibonacci sequence up to 21\n",
    "fib_gen = fibonacci_generator(21)\n",
    "for num in fib_gen:\n",
    "    print(num)\n"
   ]
  },
  {
   "cell_type": "code",
   "execution_count": null,
   "metadata": {
    "vscode": {
     "languageId": "plaintext"
    }
   },
   "outputs": [],
   "source": [
    "# Task 02 - Part A: Custom Iterator\n",
    "\n",
    "class SquareIterator:\n",
    "    def __init__(self, n):\n",
    "        self.n = n\n",
    "        self.current = 1\n",
    "\n",
    "    def __iter__(self):\n",
    "        return self\n",
    "\n",
    "    def __next__(self):\n",
    "        if self.current > self.n:\n",
    "            raise StopIteration\n",
    "        result = self.current ** 2\n",
    "        self.current += 1\n",
    "        return result\n",
    "\n",
    "# Create an iterator for squares of first 5 numbers\n",
    "squares = SquareIterator(5)\n",
    "for square in squares:\n",
    "    print(square)\n"
   ]
  }
 ],
 "metadata": {
  "language_info": {
   "name": "python"
  }
 },
 "nbformat": 4,
 "nbformat_minor": 2
}
