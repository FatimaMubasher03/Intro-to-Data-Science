{
 "cells": [
  {
   "cell_type": "code",
   "execution_count": null,
   "metadata": {
    "vscode": {
     "languageId": "plaintext"
    }
   },
   "outputs": [],
   "source": [
    "import numpy as np \n",
    "arr=np.array[1,2,3,4,5,6,7,8,9,10,11,12,13,14,15,16,17,18,19,20]\n",
    "arr2= np.reshape (arr,(4,5))\n",
    "arr2[0][4] = arr2[1][4] = arr2[2][4] =arr2[3][4] =0\n",
    "arr3= arr2.flatten(order = 'C')\n",
    "print(arr3)\n",
    "\n"
   ]
  },
  {
   "cell_type": "code",
   "execution_count": null,
   "metadata": {
    "vscode": {
     "languageId": "plaintext"
    }
   },
   "outputs": [],
   "source": [
    "import numpy as np\n",
    "arr= np.random.randint(10,50, size=(5,5))\n",
    "print (arr)\n",
    "for i in range (5):\n",
    "    meean=np.mean(arr[:,i])\n",
    "    maxx=np.max(arr[:,i])\n",
    "    minn=np.min(arr[:,i])\n",
    "    summ=np.sum(arr[:,i])\n",
    "print ('Row wise:')\n",
    "print (meean)\n",
    "print (maxx)\n",
    "print (minn)\n",
    "print (summ)\n",
    "for i in range (5):\n",
    "    meean2=np.mean(arr[i,:])\n",
    "    maxx2=np.max(arr[i,:])\n",
    "    minn2=np.min(arr[i,:])\n",
    "    summ2=np.sum(arr[i,:])\n",
    "    print ('Column wise:')\n",
    "print (meean2)\n",
    "print (maxx2)\n",
    "print (minn2)\n",
    "print (summ2)\n",
    "\n"
   ]
  },
  {
   "cell_type": "code",
   "execution_count": null,
   "metadata": {
    "vscode": {
     "languageId": "plaintext"
    }
   },
   "outputs": [],
   "source": [
    "import numpy as np\n",
    "arr=np.identity(4,int)\n",
    "np.fill_diagonal(arr,5)\n",
    "arr=[3,:]=1\n",
    "\n",
    "print (arr)"
   ]
  },
  {
   "cell_type": "code",
   "execution_count": null,
   "metadata": {
    "vscode": {
     "languageId": "plaintext"
    }
   },
   "outputs": [],
   "source": [
    "import numpy as np\n",
    "arr= np.random,randint(0,20 , size=15)\n",
    "uniquee=np.unique(arr)\n",
    "print(\"Count of unique:\" {len(uniquee)})\n",
    "print(\"Unique Elements:\" {uniquee})\n",
    "print (\"Original Array\" {arr})\n",
    "index=[]\n",
    "for i in range(len(arr)):\n",
    "    if arr[i]>10:\n",
    "        index.append(i)\n",
    "print(\"Original List:\",arr)\n",
    "print(\"Indicess of elements greater than 10\",index)\n",
    "\n"
   ]
  },
  {
   "cell_type": "code",
   "execution_count": null,
   "metadata": {
    "vscode": {
     "languageId": "plaintext"
    }
   },
   "outputs": [],
   "source": [
    "import numpy as np\n",
    "arr=np.random.rand(3,4)\n",
    "roundd=np.around(arr,2)\n",
    "print(roundd)\n",
    "arr2=roundd\n",
    "arr2[:,1]=0.5\n",
    "print(arr2)\n",
    "\n"
   ]
  }
 ],
 "metadata": {
  "language_info": {
   "name": "python"
  }
 },
 "nbformat": 4,
 "nbformat_minor": 2
}
